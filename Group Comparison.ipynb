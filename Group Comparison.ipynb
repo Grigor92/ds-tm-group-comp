{
 "cells": [
  {
   "cell_type": "markdown",
   "id": "f3e39063",
   "metadata": {},
   "source": [
    "# ADS 509 Module 3: Group Comparison \n",
    "\n",
    "The task of comparing two groups of text is fundamental to textual analysis. There are innumerable applications: survey respondents from different segments of customers, speeches by different political parties, words used in Tweets by different constituencies, etc. In this assignment you will build code to effect comparisons between groups of text data, using the ideas learned in reading and lecture.\n",
    "\n",
    "This assignment asks you to analyze the lyrics and Twitter descriptions for the two artists you selected in Module 1. If the results from that pull were not to your liking, you are welcome to use the zipped data from the “Assignment Materials” section. Specifically, you are asked to do the following: \n",
    "\n",
    "* Read in the data, normalize the text, and tokenize it. When you tokenize your Twitter descriptions, keep hashtags and emojis in your token set. \n",
    "* Calculate descriptive statistics on the two sets of lyrics and compare the results. \n",
    "* For each of the four corpora, find the words that are unique to that corpus. \n",
    "* Build word clouds for all four corpora. \n",
    "\n",
    "Each one of the analyses has a section dedicated to it below. Before beginning the analysis there is a section for you to read in the data and do your cleaning (tokenization and normalization). \n"
   ]
  },
  {
   "cell_type": "markdown",
   "id": "c6e65f73",
   "metadata": {},
   "source": [
    "## General Assignment Instructions\n",
    "\n",
    "These instructions are included in every assignment, to remind you of the coding standards for the class. Feel free to delete this cell after reading it. \n",
    "\n",
    "One sign of mature code is conforming to a style guide. We recommend the [Google Python Style Guide](https://google.github.io/styleguide/pyguide.html). If you use a different style guide, please include a cell with a link. \n",
    "\n",
    "Your code should be relatively easy-to-read, sensibly commented, and clean. Writing code is a messy process, so please be sure to edit your final submission. Remove any cells that are not needed or parts of cells that contain unnecessary code. Remove inessential `import` statements and make sure that all such statements are moved into the designated cell. \n",
    "\n",
    "Make use of non-code cells for written commentary. These cells should be grammatical and clearly written. In some of these cells you will have questions to answer. The questions will be marked by a \"Q:\" and will have a corresponding \"A:\" spot for you. *Make sure to answer every question marked with a `Q:` for full credit.* \n"
   ]
  },
  {
   "cell_type": "code",
   "execution_count": 3,
   "id": "abe420bf",
   "metadata": {},
   "outputs": [],
   "source": [
    "import os\n",
    "import re\n",
    "import emoji\n",
    "import pandas as pd\n",
    "\n",
    "from collections import Counter, defaultdict\n",
    "from nltk.corpus import stopwords\n",
    "from string import punctuation\n",
    "#!pip install wordcloud\n",
    "from wordcloud import WordCloud \n",
    "\n",
    "from sklearn.feature_extraction.text import TfidfTransformer, CountVectorizer\n"
   ]
  },
  {
   "cell_type": "code",
   "execution_count": 4,
   "id": "a9f064bf",
   "metadata": {},
   "outputs": [],
   "source": [
    "# Use this space for any additional import statements you need\n",
    "\n"
   ]
  },
  {
   "cell_type": "code",
   "execution_count": 6,
   "id": "bcbe6342",
   "metadata": {},
   "outputs": [],
   "source": [
    "# Place any addtional functions or constants you need here. \n",
    "\n",
    "# Some punctuation variations\n",
    "punctuation = set(punctuation) # speeds up comparison\n",
    "tw_punct = punctuation - {\"#\"}\n",
    "\n",
    "# Stopwords\n",
    "sw = stopwords.words(\"english\")\n",
    "\n",
    "# Two useful regex\n",
    "whitespace_pattern = re.compile(r\"\\s+\")\n",
    "hashtag_pattern = re.compile(r\"^#[0-9a-zA-Z]+\")\n",
    "\n",
    "# It's handy to have a full set of emojis\n",
    "all_language_emojis = set()\n",
    "\n",
    "for country in emoji.EMOJI_DATA : \n",
    "    for em in emoji.EMOJI_DATA[country] : \n",
    "        all_language_emojis.add(em)\n",
    "\n",
    "# and now our functions\n",
    "def descriptive_stats(tokens, num_tokens = 5, verbose=True) :\n",
    "    \"\"\"\n",
    "        Given a list of tokens, print number of tokens, number of unique tokens, \n",
    "        number of characters, lexical diversity, and num_tokens most common\n",
    "        tokens. Return a list of \n",
    "    \"\"\"\n",
    "\n",
    "    # Place your Module 2 solution here\n",
    "    # Fill in the correct values here. \n",
    "    num_tokens = len(tokens)\n",
    "    num_unique_tokens = len(set(tokens))\n",
    "    lexical_diversity = num_unique_tokens/num_tokens\n",
    "    num_characters = len(\"\".join(tokens))\n",
    "    \n",
    "    if verbose :        \n",
    "        print(f\"There are {num_tokens} tokens in the data.\")\n",
    "        print(f\"There are {num_unique_tokens} unique tokens in the data.\")\n",
    "        print(f\"There are {num_characters} characters in the data.\")\n",
    "        print(f\"The lexical diversity is {lexical_diversity:.3f} in the data.\")\n",
    "    \n",
    "        # print the five most common tokens\n",
    "        if num_tokens > 0:\n",
    "            print(counts.most_common(num_tokens))\n",
    "    return([len(tokens),\n",
    "           len(set(tokens)),\n",
    "           len(\"\".join(tokens)),\n",
    "           len(set(tokens))/len(tokens)])\n",
    "\n",
    "    return([num_tokens, num_unique_tokens,\n",
    "            lexical_diversity,\n",
    "            num_characters])\n",
    "    return(0)\n",
    "\n",
    "\n",
    "    \n",
    "def contains_emoji(s):\n",
    "    \n",
    "    s = str(s)\n",
    "    emojis = [ch for ch in s if emoji.is_emoji(ch)]\n",
    "\n",
    "    return(len(emojis) > 0)\n",
    "\n",
    "\n",
    "def remove_stop(tokens) :\n",
    "    # modify this function to remove stopwords\n",
    "    return(tokens)\n",
    " \n",
    "def remove_punctuation(text, punct_set=tw_punct) : \n",
    "    return(\"\".join([ch for ch in text if ch not in punct_set]))\n",
    "\n",
    "def tokenize(text) : \n",
    "    \"\"\" Splitting on whitespace rather than the book's tokenize function. That \n",
    "        function will drop tokens like '#hashtag' or '2A', which we need for Twitter. \"\"\"\n",
    "    \n",
    "    # modify this function to return tokens\n",
    "    return(text)\n",
    "\n",
    "def prepare(text, pipeline) : \n",
    "    tokens = str(text)\n",
    "    \n",
    "    for transform in pipeline : \n",
    "        tokens = transform(tokens)\n",
    "        \n",
    "    return(tokens)\n"
   ]
  },
  {
   "cell_type": "code",
   "execution_count": 7,
   "id": "732b5594",
   "metadata": {},
   "outputs": [
    {
     "name": "stdout",
     "output_type": "stream",
     "text": [
      "There are 13 tokens in the data.\n",
      "There are 9 unique tokens in the data.\n",
      "There are 55 characters in the data.\n",
      "The lexical diversity is 0.692 in the data.\n"
     ]
    },
    {
     "ename": "NameError",
     "evalue": "name 'counts' is not defined",
     "output_type": "error",
     "traceback": [
      "\u001b[1;31m---------------------------------------------------------------------------\u001b[0m",
      "\u001b[1;31mNameError\u001b[0m                                 Traceback (most recent call last)",
      "Input \u001b[1;32mIn [7]\u001b[0m, in \u001b[0;36m<cell line: 2>\u001b[1;34m()\u001b[0m\n\u001b[0;32m      1\u001b[0m text \u001b[38;5;241m=\u001b[39m \u001b[38;5;124m\"\"\"\u001b[39m\u001b[38;5;124mhere is some example text with other example text here in this text\u001b[39m\u001b[38;5;124m\"\"\"\u001b[39m\u001b[38;5;241m.\u001b[39msplit()\n\u001b[1;32m----> 2\u001b[0m \u001b[38;5;28;01massert\u001b[39;00m(\u001b[43mdescriptive_stats\u001b[49m\u001b[43m(\u001b[49m\u001b[43mtext\u001b[49m\u001b[43m,\u001b[49m\u001b[43m \u001b[49m\u001b[43mverbose\u001b[49m\u001b[38;5;241;43m=\u001b[39;49m\u001b[38;5;28;43;01mTrue\u001b[39;49;00m\u001b[43m)\u001b[49m[\u001b[38;5;241m0\u001b[39m] \u001b[38;5;241m==\u001b[39m \u001b[38;5;241m13\u001b[39m)\n\u001b[0;32m      3\u001b[0m \u001b[38;5;28;01massert\u001b[39;00m(descriptive_stats(text, verbose\u001b[38;5;241m=\u001b[39m\u001b[38;5;28;01mFalse\u001b[39;00m)[\u001b[38;5;241m1\u001b[39m] \u001b[38;5;241m==\u001b[39m \u001b[38;5;241m9\u001b[39m)\n\u001b[0;32m      4\u001b[0m \u001b[38;5;28;01massert\u001b[39;00m(\u001b[38;5;28mabs\u001b[39m(descriptive_stats(text, verbose\u001b[38;5;241m=\u001b[39m\u001b[38;5;28;01mFalse\u001b[39;00m)[\u001b[38;5;241m2\u001b[39m] \u001b[38;5;241m-\u001b[39m \u001b[38;5;241m0.69\u001b[39m) \u001b[38;5;241m<\u001b[39m \u001b[38;5;241m0.02\u001b[39m)\n",
      "Input \u001b[1;32mIn [6]\u001b[0m, in \u001b[0;36mdescriptive_stats\u001b[1;34m(tokens, num_tokens, verbose)\u001b[0m\n\u001b[0;32m     42\u001b[0m     \u001b[38;5;66;03m# print the five most common tokens\u001b[39;00m\n\u001b[0;32m     43\u001b[0m     \u001b[38;5;28;01mif\u001b[39;00m num_tokens \u001b[38;5;241m>\u001b[39m \u001b[38;5;241m0\u001b[39m:\n\u001b[1;32m---> 44\u001b[0m         \u001b[38;5;28mprint\u001b[39m(\u001b[43mcounts\u001b[49m\u001b[38;5;241m.\u001b[39mmost_common(num_tokens))\n\u001b[0;32m     45\u001b[0m \u001b[38;5;28;01mreturn\u001b[39;00m([\u001b[38;5;28mlen\u001b[39m(tokens),\n\u001b[0;32m     46\u001b[0m        \u001b[38;5;28mlen\u001b[39m(\u001b[38;5;28mset\u001b[39m(tokens)),\n\u001b[0;32m     47\u001b[0m        \u001b[38;5;28mlen\u001b[39m(\u001b[38;5;124m\"\u001b[39m\u001b[38;5;124m\"\u001b[39m\u001b[38;5;241m.\u001b[39mjoin(tokens)),\n\u001b[0;32m     48\u001b[0m        \u001b[38;5;28mlen\u001b[39m(\u001b[38;5;28mset\u001b[39m(tokens))\u001b[38;5;241m/\u001b[39m\u001b[38;5;28mlen\u001b[39m(tokens)])\n\u001b[0;32m     50\u001b[0m \u001b[38;5;28;01mreturn\u001b[39;00m([num_tokens, num_unique_tokens,\n\u001b[0;32m     51\u001b[0m         lexical_diversity,\n\u001b[0;32m     52\u001b[0m         num_characters])\n",
      "\u001b[1;31mNameError\u001b[0m: name 'counts' is not defined"
     ]
    }
   ],
   "source": [
    "text = \"\"\"here is some example text with other example text here in this text\"\"\".split()\n",
    "assert(descriptive_stats(text, verbose=True)[0] == 13)\n",
    "assert(descriptive_stats(text, verbose=False)[1] == 9)\n",
    "assert(abs(descriptive_stats(text, verbose=False)[2] - 0.69) < 0.02)\n",
    "assert(descriptive_stats(text, verbose=False)[3] == 55)"
   ]
  },
  {
   "cell_type": "markdown",
   "id": "47735524",
   "metadata": {},
   "source": [
    "## Data Ingestion\n",
    "\n",
    "Use this section to ingest your data into the data structures you plan to use. Typically this will be a dictionary or a pandas DataFrame."
   ]
  },
  {
   "cell_type": "code",
   "execution_count": 10,
   "id": "ff88201f",
   "metadata": {},
   "outputs": [],
   "source": [
    "# Feel fre to use the below cells as an example or read in the data in a way you prefer\n",
    "\n",
    "data_location = \"C:/Users/Grigor/OneDrive/Desktop/Master_Program/ADS509/Module_2/\" \n",
    "# change to your location if it is not in the same directory as your notebook\n",
    "twitter_folder = \"twitter/\"\n",
    "lyrics_folder = \"lyrics/\"\n",
    "\n",
    "artist_files = {'cher':'cher_followers_data.txt',\n",
    "                'robyn':'robynkonichiwa_followers_data.txt'}\n"
   ]
  },
  {
   "cell_type": "code",
   "execution_count": 11,
   "id": "df415d65",
   "metadata": {},
   "outputs": [],
   "source": [
    "twitter_data = pd.read_csv(data_location + twitter_folder + artist_files['cher'],\n",
    "                           sep=\"\\t\",\n",
    "                           quoting=3)\n",
    "\n",
    "twitter_data['artist'] = \"cher\""
   ]
  },
  {
   "cell_type": "code",
   "execution_count": 12,
   "id": "966804cb",
   "metadata": {},
   "outputs": [],
   "source": [
    "twitter_data_2 = pd.read_csv(data_location + twitter_folder + artist_files['robyn'],\n",
    "                             sep=\"\\t\",\n",
    "                             quoting=3)\n",
    "twitter_data_2['artist'] = \"robyn\"\n",
    "\n",
    "twitter_data = pd.concat([\n",
    "    twitter_data,twitter_data_2])\n",
    "    \n",
    "del(twitter_data_2)"
   ]
  },
  {
   "cell_type": "code",
   "execution_count": 13,
   "id": "674767d3",
   "metadata": {},
   "outputs": [],
   "source": [
    "# read in the lyrics here\n",
    "lyrics_data = pd.read_csv(data_location + twitter_folder + artist_files['cher'],\n",
    "                           sep=\"\\t\",\n",
    "                           quoting=3)\n",
    "\n",
    "lyrics_data['artist'] = \"cher\""
   ]
  },
  {
   "cell_type": "code",
   "execution_count": 14,
   "id": "7cdf8ae5",
   "metadata": {},
   "outputs": [],
   "source": [
    "# read in the lyrics here\n",
    "lyrics_data_2 = pd.read_csv(data_location + twitter_folder + artist_files['robyn'],\n",
    "                             sep=\"\\t\",\n",
    "                             quoting=3)\n",
    "lyrics_data_2['artist'] = \"robyn\"\n",
    "\n",
    "lyrics_data = pd.concat([\n",
    "    lyrics_data,lyrics_data_2])\n",
    "    \n",
    "del(lyrics_data_2)"
   ]
  },
  {
   "cell_type": "markdown",
   "id": "f9892d14",
   "metadata": {},
   "source": [
    "## Tokenization and Normalization\n",
    "\n",
    "In this next section, tokenize and normalize your data. We recommend the following cleaning. \n",
    "\n",
    "**Lyrics** \n",
    "\n",
    "* Remove song titles\n",
    "* Casefold to lowercase\n",
    "* Remove stopwords (optional)\n",
    "* Remove punctuation\n",
    "* Split on whitespace\n",
    "\n",
    "Removal of stopwords is up to you. Your descriptive statistic comparison will be different if you include stopwords, though TF-IDF should still find interesting features for you. Note that we remove stopwords before removing punctuation because the stopword set includes punctuation.\n",
    "\n",
    "**Twitter Descriptions** \n",
    "\n",
    "* Casefold to lowercase\n",
    "* Remove stopwords\n",
    "* Remove punctuation other than emojis or hashtags\n",
    "* Split on whitespace\n",
    "\n",
    "Removing stopwords seems sensible for the Twitter description data. Remember to leave in emojis and hashtags, since you analyze those. "
   ]
  },
  {
   "cell_type": "code",
   "execution_count": 18,
   "id": "e53252a9",
   "metadata": {},
   "outputs": [],
   "source": [
    "\n",
    "artists = []\n",
    "songs = [] \n",
    "lyrics = []\n",
    "for item in os.listdir(data_location + lyrics_folder) : \n",
    "    if os.path.isdir(data_location + lyrics_folder + item) :\n",
    "        for lyric_page in os.listdir(data_location + lyrics_folder + item) :\n",
    "            artist,song = lyric_page.split(\"_\")\n",
    "            \n",
    "            song = song.replace(\".txt\",\"\")\n",
    "            artists.append(artist)\n",
    "            songs.append(song)\n",
    "            \n",
    "            with open(data_location + lyrics_folder + item + \"/\" + lyric_page) as infile : \n",
    "                next(infile) # skip title\n",
    "                next(infile) # skip blank\n",
    "                next(infile) # skip blank\n",
    "                next(infile) # skip final blank\n",
    "                \n",
    "                lyrics.append(infile.read())\n",
    "        \n",
    "lyrics_data = pd.DataFrame()\n",
    "lyrics_data['artist'] = artists\n",
    "lyrics_data['song'] = songs\n",
    "lyrics_data['lyrics'] = lyrics"
   ]
  },
  {
   "cell_type": "code",
   "execution_count": 19,
   "id": "5ca379eb",
   "metadata": {},
   "outputs": [],
   "source": [
    "# apply the `pipeline` techniques from BTAP Ch 1 or 5\n",
    "\n",
    "my_pipeline = [str.lower, remove_punctuation, tokenize, remove_stop]\n",
    "\n",
    "lyrics_data[\"tokens\"] = lyrics_data[\"lyrics\"].apply(prepare,pipeline=my_pipeline)\n",
    "lyrics_data[\"num_tokens\"] = lyrics_data[\"tokens\"].map(len) \n",
    "\n",
    "twitter_data[\"tokens\"] = twitter_data[\"description\"].apply(prepare,pipeline=my_pipeline)\n",
    "twitter_data[\"num_tokens\"] = twitter_data[\"tokens\"].map(len) \n"
   ]
  },
  {
   "cell_type": "code",
   "execution_count": 20,
   "id": "6cf534be",
   "metadata": {},
   "outputs": [],
   "source": [
    "twitter_data['has_emoji'] = twitter_data[\"description\"].apply(contains_emoji)"
   ]
  },
  {
   "cell_type": "markdown",
   "id": "7ec69ac9",
   "metadata": {},
   "source": [
    "Let's take a quick look at some descriptions with emojis."
   ]
  },
  {
   "cell_type": "code",
   "execution_count": 21,
   "id": "0a5a0512",
   "metadata": {},
   "outputs": [
    {
     "data": {
      "text/html": [
       "<div>\n",
       "<style scoped>\n",
       "    .dataframe tbody tr th:only-of-type {\n",
       "        vertical-align: middle;\n",
       "    }\n",
       "\n",
       "    .dataframe tbody tr th {\n",
       "        vertical-align: top;\n",
       "    }\n",
       "\n",
       "    .dataframe thead th {\n",
       "        text-align: right;\n",
       "    }\n",
       "</style>\n",
       "<table border=\"1\" class=\"dataframe\">\n",
       "  <thead>\n",
       "    <tr style=\"text-align: right;\">\n",
       "      <th></th>\n",
       "      <th>artist</th>\n",
       "      <th>description</th>\n",
       "      <th>tokens</th>\n",
       "    </tr>\n",
       "  </thead>\n",
       "  <tbody>\n",
       "    <tr>\n",
       "      <th>557473</th>\n",
       "      <td>cher</td>\n",
       "      <td>University of Alabama 2019. She/her. Life is t...</td>\n",
       "      <td>university of alabama 2019 sheher life is too ...</td>\n",
       "    </tr>\n",
       "    <tr>\n",
       "      <th>593346</th>\n",
       "      <td>cher</td>\n",
       "      <td>It's not about whether you get knocked down, i...</td>\n",
       "      <td>its not about whether you get knocked down its...</td>\n",
       "    </tr>\n",
       "    <tr>\n",
       "      <th>2632495</th>\n",
       "      <td>cher</td>\n",
       "      <td>Azul de profesión 💙 T_Tniversidad de Chile 💙❤️...</td>\n",
       "      <td>azul de profesión 💙 ttniversidad de chile 💙❤️ ...</td>\n",
       "    </tr>\n",
       "    <tr>\n",
       "      <th>899665</th>\n",
       "      <td>cher</td>\n",
       "      <td>🌎🌍🌏man miss me wit alllll the negative shit</td>\n",
       "      <td>🌎🌍🌏man miss me wit alllll the negative shit</td>\n",
       "    </tr>\n",
       "    <tr>\n",
       "      <th>1987035</th>\n",
       "      <td>cher</td>\n",
       "      <td>i love drag❤️ ,i love music ,i love harry pott...</td>\n",
       "      <td>i love drag❤️ i love music i love harry potter...</td>\n",
       "    </tr>\n",
       "    <tr>\n",
       "      <th>1745904</th>\n",
       "      <td>cher</td>\n",
       "      <td>🍇 Cheers🍷🍇</td>\n",
       "      <td>🍇 cheers🍷🍇</td>\n",
       "    </tr>\n",
       "    <tr>\n",
       "      <th>289672</th>\n",
       "      <td>cher</td>\n",
       "      <td>💕🌼 Bloom where you are planted. 🌷💕</td>\n",
       "      <td>💕🌼 bloom where you are planted 🌷💕</td>\n",
       "    </tr>\n",
       "    <tr>\n",
       "      <th>168127</th>\n",
       "      <td>cher</td>\n",
       "      <td>she/her - ou 25 - tpwk - ♍︎</td>\n",
       "      <td>sheher  ou 25  tpwk  ♍︎</td>\n",
       "    </tr>\n",
       "    <tr>\n",
       "      <th>3132800</th>\n",
       "      <td>cher</td>\n",
       "      <td>#CysticFibrosis. Lung Transplant @PennMedicine...</td>\n",
       "      <td>#cysticfibrosis lung transplant pennmedicine 1...</td>\n",
       "    </tr>\n",
       "    <tr>\n",
       "      <th>677820</th>\n",
       "      <td>cher</td>\n",
       "      <td>Always be a little kinder than necessary.🤘🏻</td>\n",
       "      <td>always be a little kinder than necessary🤘🏻</td>\n",
       "    </tr>\n",
       "  </tbody>\n",
       "</table>\n",
       "</div>"
      ],
      "text/plain": [
       "        artist                                        description  \\\n",
       "557473    cher  University of Alabama 2019. She/her. Life is t...   \n",
       "593346    cher  It's not about whether you get knocked down, i...   \n",
       "2632495   cher  Azul de profesión 💙 T_Tniversidad de Chile 💙❤️...   \n",
       "899665    cher        🌎🌍🌏man miss me wit alllll the negative shit   \n",
       "1987035   cher  i love drag❤️ ,i love music ,i love harry pott...   \n",
       "1745904   cher                                         🍇 Cheers🍷🍇   \n",
       "289672    cher                 💕🌼 Bloom where you are planted. 🌷💕   \n",
       "168127    cher                        she/her - ou 25 - tpwk - ♍︎   \n",
       "3132800   cher  #CysticFibrosis. Lung Transplant @PennMedicine...   \n",
       "677820    cher        Always be a little kinder than necessary.🤘🏻   \n",
       "\n",
       "                                                    tokens  \n",
       "557473   university of alabama 2019 sheher life is too ...  \n",
       "593346   its not about whether you get knocked down its...  \n",
       "2632495  azul de profesión 💙 ttniversidad de chile 💙❤️ ...  \n",
       "899665         🌎🌍🌏man miss me wit alllll the negative shit  \n",
       "1987035  i love drag❤️ i love music i love harry potter...  \n",
       "1745904                                         🍇 cheers🍷🍇  \n",
       "289672                   💕🌼 bloom where you are planted 🌷💕  \n",
       "168127                             sheher  ou 25  tpwk  ♍︎  \n",
       "3132800  #cysticfibrosis lung transplant pennmedicine 1...  \n",
       "677820          always be a little kinder than necessary🤘🏻  "
      ]
     },
     "execution_count": 21,
     "metadata": {},
     "output_type": "execute_result"
    }
   ],
   "source": [
    "twitter_data[twitter_data.has_emoji].sample(10)[[\"artist\",\"description\",\"tokens\"]]"
   ]
  },
  {
   "cell_type": "markdown",
   "id": "4b2c55c9",
   "metadata": {},
   "source": [
    "With the data processed, we can now start work on the assignment questions. \n",
    "\n",
    "Q: What is one area of improvement to your tokenization that you could theoretically carry out? (No need to actually do it; let's not make perfect the enemy of good enough.)\n",
    "\n",
    "A: I feel like there are special characters within the description and tokens that may need some more explaining."
   ]
  },
  {
   "cell_type": "markdown",
   "id": "a1594271",
   "metadata": {},
   "source": [
    "## Calculate descriptive statistics on the two sets of lyrics and compare the results. \n"
   ]
  },
  {
   "cell_type": "code",
   "execution_count": 57,
   "id": "dc25e937",
   "metadata": {},
   "outputs": [],
   "source": [
    "# your code here\n",
    "#descriptive_stats(lyrics_data['artist'], num_tokens = 10)\n",
    "cher = lyrics_data[lyrics_data['artist'] == 'cher']\n",
    "cher_dstats = [element for list_ in cher['tokens'].values for element in list_]\n",
    "\n",
    "robyn = lyrics_data[lyrics_data['artist'] == 'robyn']\n",
    "robyn_dstats = [element for list_ in robyn['tokens'].values for element in list_]"
   ]
  },
  {
   "cell_type": "code",
   "execution_count": 60,
   "id": "4999adfe",
   "metadata": {},
   "outputs": [
    {
     "name": "stdout",
     "output_type": "stream",
     "text": [
      "\n",
      "Cher :\n",
      "There are 332560 tokens in the data.\n",
      "There are 48 unique tokens in the data.\n",
      "There are 332560 characters in the data.\n",
      "The lexical diversity is 0.000 in the data.\n"
     ]
    },
    {
     "ename": "NameError",
     "evalue": "name 'counts' is not defined",
     "output_type": "error",
     "traceback": [
      "\u001b[1;31m---------------------------------------------------------------------------\u001b[0m",
      "\u001b[1;31mNameError\u001b[0m                                 Traceback (most recent call last)",
      "Input \u001b[1;32mIn [60]\u001b[0m, in \u001b[0;36m<cell line: 2>\u001b[1;34m()\u001b[0m\n\u001b[0;32m      1\u001b[0m \u001b[38;5;28mprint\u001b[39m(\u001b[38;5;124m\"\u001b[39m\u001b[38;5;130;01m\\n\u001b[39;00m\u001b[38;5;124mCher :\u001b[39m\u001b[38;5;124m\"\u001b[39m)\n\u001b[1;32m----> 2\u001b[0m \u001b[38;5;28mprint\u001b[39m(\u001b[43mdescriptive_stats\u001b[49m\u001b[43m(\u001b[49m\u001b[43mcher_dstats\u001b[49m\u001b[43m)\u001b[49m)\n",
      "Input \u001b[1;32mIn [6]\u001b[0m, in \u001b[0;36mdescriptive_stats\u001b[1;34m(tokens, num_tokens, verbose)\u001b[0m\n\u001b[0;32m     42\u001b[0m     \u001b[38;5;66;03m# print the five most common tokens\u001b[39;00m\n\u001b[0;32m     43\u001b[0m     \u001b[38;5;28;01mif\u001b[39;00m num_tokens \u001b[38;5;241m>\u001b[39m \u001b[38;5;241m0\u001b[39m:\n\u001b[1;32m---> 44\u001b[0m         \u001b[38;5;28mprint\u001b[39m(\u001b[43mcounts\u001b[49m\u001b[38;5;241m.\u001b[39mmost_common(num_tokens))\n\u001b[0;32m     45\u001b[0m \u001b[38;5;28;01mreturn\u001b[39;00m([\u001b[38;5;28mlen\u001b[39m(tokens),\n\u001b[0;32m     46\u001b[0m        \u001b[38;5;28mlen\u001b[39m(\u001b[38;5;28mset\u001b[39m(tokens)),\n\u001b[0;32m     47\u001b[0m        \u001b[38;5;28mlen\u001b[39m(\u001b[38;5;124m\"\u001b[39m\u001b[38;5;124m\"\u001b[39m\u001b[38;5;241m.\u001b[39mjoin(tokens)),\n\u001b[0;32m     48\u001b[0m        \u001b[38;5;28mlen\u001b[39m(\u001b[38;5;28mset\u001b[39m(tokens))\u001b[38;5;241m/\u001b[39m\u001b[38;5;28mlen\u001b[39m(tokens)])\n\u001b[0;32m     50\u001b[0m \u001b[38;5;28;01mreturn\u001b[39;00m([num_tokens, num_unique_tokens,\n\u001b[0;32m     51\u001b[0m         lexical_diversity,\n\u001b[0;32m     52\u001b[0m         num_characters])\n",
      "\u001b[1;31mNameError\u001b[0m: name 'counts' is not defined"
     ]
    }
   ],
   "source": [
    "print(\"\\nCher :\")\n",
    "print(descriptive_stats(cher_dstats))\n"
   ]
  },
  {
   "cell_type": "code",
   "execution_count": 61,
   "id": "b2311d03",
   "metadata": {},
   "outputs": [
    {
     "name": "stdout",
     "output_type": "stream",
     "text": [
      "\n",
      "Robyn :\n",
      "There are 141288 tokens in the data.\n",
      "There are 51 unique tokens in the data.\n",
      "There are 141288 characters in the data.\n",
      "The lexical diversity is 0.000 in the data.\n"
     ]
    },
    {
     "ename": "NameError",
     "evalue": "name 'counts' is not defined",
     "output_type": "error",
     "traceback": [
      "\u001b[1;31m---------------------------------------------------------------------------\u001b[0m",
      "\u001b[1;31mNameError\u001b[0m                                 Traceback (most recent call last)",
      "Input \u001b[1;32mIn [61]\u001b[0m, in \u001b[0;36m<cell line: 2>\u001b[1;34m()\u001b[0m\n\u001b[0;32m      1\u001b[0m \u001b[38;5;28mprint\u001b[39m(\u001b[38;5;124m\"\u001b[39m\u001b[38;5;130;01m\\n\u001b[39;00m\u001b[38;5;124mRobyn :\u001b[39m\u001b[38;5;124m\"\u001b[39m)\n\u001b[1;32m----> 2\u001b[0m \u001b[38;5;28mprint\u001b[39m(\u001b[43mdescriptive_stats\u001b[49m\u001b[43m(\u001b[49m\u001b[43mrobyn_dstats\u001b[49m\u001b[43m)\u001b[49m)\n",
      "Input \u001b[1;32mIn [6]\u001b[0m, in \u001b[0;36mdescriptive_stats\u001b[1;34m(tokens, num_tokens, verbose)\u001b[0m\n\u001b[0;32m     42\u001b[0m     \u001b[38;5;66;03m# print the five most common tokens\u001b[39;00m\n\u001b[0;32m     43\u001b[0m     \u001b[38;5;28;01mif\u001b[39;00m num_tokens \u001b[38;5;241m>\u001b[39m \u001b[38;5;241m0\u001b[39m:\n\u001b[1;32m---> 44\u001b[0m         \u001b[38;5;28mprint\u001b[39m(\u001b[43mcounts\u001b[49m\u001b[38;5;241m.\u001b[39mmost_common(num_tokens))\n\u001b[0;32m     45\u001b[0m \u001b[38;5;28;01mreturn\u001b[39;00m([\u001b[38;5;28mlen\u001b[39m(tokens),\n\u001b[0;32m     46\u001b[0m        \u001b[38;5;28mlen\u001b[39m(\u001b[38;5;28mset\u001b[39m(tokens)),\n\u001b[0;32m     47\u001b[0m        \u001b[38;5;28mlen\u001b[39m(\u001b[38;5;124m\"\u001b[39m\u001b[38;5;124m\"\u001b[39m\u001b[38;5;241m.\u001b[39mjoin(tokens)),\n\u001b[0;32m     48\u001b[0m        \u001b[38;5;28mlen\u001b[39m(\u001b[38;5;28mset\u001b[39m(tokens))\u001b[38;5;241m/\u001b[39m\u001b[38;5;28mlen\u001b[39m(tokens)])\n\u001b[0;32m     50\u001b[0m \u001b[38;5;28;01mreturn\u001b[39;00m([num_tokens, num_unique_tokens,\n\u001b[0;32m     51\u001b[0m         lexical_diversity,\n\u001b[0;32m     52\u001b[0m         num_characters])\n",
      "\u001b[1;31mNameError\u001b[0m: name 'counts' is not defined"
     ]
    }
   ],
   "source": [
    "print(\"\\nRobyn :\")\n",
    "print(descriptive_stats(robyn_dstats))\n"
   ]
  },
  {
   "cell_type": "markdown",
   "id": "67a2ada9",
   "metadata": {},
   "source": [
    "Q: what observations do you make about these data? \n",
    "\n",
    "A: There are many tokens compared to unique tokens. Also for both artists it appears the lexical diversity is 0. \n"
   ]
  },
  {
   "cell_type": "markdown",
   "id": "750aa526",
   "metadata": {},
   "source": [
    "## Find tokens uniquely related to a corpus\n",
    "\n",
    "Typically we would use TF-IDF to find unique tokens in documents. Unfortunately, we either have too few documents (if we view each data source as a single document) or too many (if we view each description as a separate document). In the latter case, our problem will be that descriptions tend to be short, so our matrix would be too sparse to support analysis. \n",
    "\n",
    "To avoid these problems, we will create a custom statistic to identify words that are uniquely related to each corpus. The idea is to find words that occur often in one corpus and infrequently in the other(s). Since corpora can be of different lengths, we will focus on the _concentration_ of tokens within a corpus. \"Concentration\" is simply the count of the token divided by the total corpus length. For instance, if a corpus had length 100,000 and a word appeared 1,000 times, then the concentration would be $\\frac{1000}{100000} = 0.01$. If the same token had a concentration of $0.005$ in another corpus, then the concentration ratio would be $\\frac{0.01}{0.005} = 2$. Very rare words can easily create infinite ratios, so you will also add a cutoff to your code so that a token must appear at least $n$ times for you to return it. \n",
    "\n",
    "An example of these calculations can be found in [this spreadsheet](https://docs.google.com/spreadsheets/d/1P87fkyslJhqXFnfYezNYrDrXp_GS8gwSATsZymv-9ms). Please don't hesitate to ask questions if this is confusing. \n",
    "\n",
    "In this section find 10 tokens for each of your four corpora that meet the following criteria: \n",
    "\n",
    "1. The token appears at least `n` times in all corpora\n",
    "1. The tokens are in the top 10 for the highest ratio of appearances in a given corpora vs appearances in other corpora.\n",
    "\n",
    "You will choose a cutoff for yourself based on the side of the corpus you're working with. If you're working with the Robyn-Cher corpora provided, `n=5` seems to perform reasonably well."
   ]
  },
  {
   "cell_type": "code",
   "execution_count": 111,
   "id": "9de5955c",
   "metadata": {},
   "outputs": [],
   "source": [
    "def compare_conc(corpus_1, corpus_2, req_tokens = 5, num_word = 10):\n",
    "    tokens_1 = Counter(corpus_1)\n",
    "    tokens_1 = pd.DataFrame.from_dict(tokens_1, orient = 'index').reset_index()\n",
    "    tokens_1 = tokens_1.rename(columns = {'index' : 'token', 0 : 'count'})\n",
    "    tokens_1 = tokens_1[tokens_1['count'] >= req_tokens]\n",
    "    cor_length_1 = len(corpus_1)\n",
    "    tokens_1['Conc_one'] = tokens_1['count']/cor_length_1\n",
    "    \n",
    "    tokens_2 = Counter(corpus_2)\n",
    "    tokens_2 = pd.DataFrame.from_dict(tokens_2, orient = 'index').reset_index()\n",
    "    tokens_2 = tokens_2.rename(columns = {'index' : 'token', 0 : 'count'})\n",
    "    tokens_2 = tokens_2[tokens_2['count'] >= req_tokens]\n",
    "    cor_length_2 = len(corpus_2)\n",
    "    tokens_2['Conc_two'] = tokens_2['count']/cor_length_2\n",
    "    \n",
    "    merge_token = pd.merge(tokens_1, tokens_2, how = \"outer\", on = ['token', 'token'])\n",
    "    merge_token = merge_token.dropna()\n",
    "    merge_token['one vs two'] = merge_token['Conc_one']/merge_token['Conc_two']\n",
    "    merge_token['two vs one'] = merge_token['Conc_two']/merge_token['Conc_one']\n",
    "    one_vs_two_res = merge_token[['token', 'one vs two']].sort_values(by = 'one vs two', \n",
    "                                                                     ascending = False).head(10).reset_index()\n",
    "    two_vs_one_res = merge_token[['token', 'two vs one']].sort_values(by = 'two vs one', \n",
    "                                                                     ascending = False).head(10).reset_index()\n",
    "    print(\"Corpus One vs. Two:\\n\", one_vs_two_res, \"\\n\\nCorpus Two vs. One:\\n\", two_vs_one_res)"
   ]
  },
  {
   "cell_type": "code",
   "execution_count": 112,
   "id": "92191cf9",
   "metadata": {},
   "outputs": [
    {
     "name": "stdout",
     "output_type": "stream",
     "text": [
      "Corpus One vs. Two:\n",
      "    index token  one vs two\n",
      "0     27     q    2.063555\n",
      "1     21     v    1.210375\n",
      "2     12     f    1.131808\n",
      "3      9     a    1.112474\n",
      "4     17     h    1.101959\n",
      "5     19     w    1.094263\n",
      "6     13     r    1.078300\n",
      "7      0     s    1.058977\n",
      "8     14     e    1.058545\n",
      "9     15     d    1.058419 \n",
      "\n",
      "Corpus Two vs. One:\n",
      "    index token  two vs one\n",
      "0     35     ¢   12.945756\n",
      "1     36     €   12.945756\n",
      "2     32     â    8.099751\n",
      "3     38     1    7.649765\n",
      "4     30     ã    7.061322\n",
      "5     25     8    6.355189\n",
      "6     29     2    5.884435\n",
      "7     31     ƒ    5.456476\n",
      "8     28     x    1.575360\n",
      "9      4     k    1.423613\n"
     ]
    }
   ],
   "source": [
    "compare_conc(cher_dstats, robyn_dstats)\n"
   ]
  },
  {
   "cell_type": "markdown",
   "id": "53526fcd",
   "metadata": {},
   "source": [
    "Q: What are some observations about the top tokens? Do you notice any interesting items on the list? \n",
    "\n",
    "A: ¢ and € are identical with 12.945756 value."
   ]
  },
  {
   "cell_type": "markdown",
   "id": "9f4f52b3",
   "metadata": {},
   "source": [
    "## Build word clouds for all four corpora. \n",
    "\n",
    "For building wordclouds, we'll follow exactly the code of the text. The code in this section can be found [here](https://github.com/blueprints-for-text-analytics-python/blueprints-text/blob/master/ch01/First_Insights.ipynb). If you haven't already, you should absolutely clone the repository that accompanies the book. \n"
   ]
  },
  {
   "cell_type": "code",
   "execution_count": 110,
   "id": "786b2af3",
   "metadata": {},
   "outputs": [],
   "source": [
    "from matplotlib import pyplot as plt\n",
    "\n",
    "def wordcloud(word_freq, title=None, max_words=200, stopwords=None):\n",
    "\n",
    "    wc = WordCloud(width=800, height=400, \n",
    "                   background_color= \"black\", colormap=\"Paired\", \n",
    "                   max_font_size=150, max_words=max_words)\n",
    "    \n",
    "    # convert data frame into dict\n",
    "    if type(word_freq) == pd.Series:\n",
    "        counter = Counter(word_freq.fillna(0).to_dict())\n",
    "    else:\n",
    "        counter = word_freq\n",
    "\n",
    "    # filter stop words in frequency counter\n",
    "    if stopwords is not None:\n",
    "        counter = {token:freq for (token, freq) in counter.items() \n",
    "                              if token not in stopwords}\n",
    "    wc.generate_from_frequencies(counter)\n",
    " \n",
    "    plt.title(title) \n",
    "\n",
    "    plt.imshow(wc, interpolation='bilinear')\n",
    "    plt.axis(\"off\")\n",
    "    \n",
    "    \n",
    "def count_words(df, column='tokens', preprocess=None, min_freq=2):\n",
    "\n",
    "    # process tokens and update counter\n",
    "    def update(doc):\n",
    "        tokens = doc if preprocess is None else preprocess(doc)\n",
    "        counter.update(tokens)\n",
    "\n",
    "    # create counter and run through all data\n",
    "    counter = Counter()\n",
    "    df[column].map(update)\n",
    "\n",
    "    # transform counter into data frame\n",
    "    freq_df = pd.DataFrame.from_dict(counter, orient='index', columns=['freq'])\n",
    "    freq_df = freq_df.query('freq >= @min_freq')\n",
    "    freq_df.index.name = 'token'\n",
    "    \n",
    "    return freq_df.sort_values('freq', ascending=False)"
   ]
  },
  {
   "cell_type": "markdown",
   "id": "b11a2e53",
   "metadata": {},
   "source": [
    "Q: What observations do you have about these (relatively straightforward) wordclouds? \n",
    "\n",
    "A: "
   ]
  }
 ],
 "metadata": {
  "kernelspec": {
   "display_name": "Python 3 (ipykernel)",
   "language": "python",
   "name": "python3"
  },
  "language_info": {
   "codemirror_mode": {
    "name": "ipython",
    "version": 3
   },
   "file_extension": ".py",
   "mimetype": "text/x-python",
   "name": "python",
   "nbconvert_exporter": "python",
   "pygments_lexer": "ipython3",
   "version": "3.8.12"
  }
 },
 "nbformat": 4,
 "nbformat_minor": 5
}
